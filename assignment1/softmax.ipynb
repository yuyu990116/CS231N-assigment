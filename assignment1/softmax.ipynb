{
 "cells": [
  {
   "cell_type": "code",
   "execution_count": null,
   "id": "149d5b7e",
   "metadata": {},
   "outputs": [],
   "source": [
    "# This mounts your Google Drive to the Colab VM.\n",
    "from google.colab import drive\n",
    "drive.mount('/content/drive')\n",
    "\n",
    "# TODO: Enter the foldername in your Drive where you have saved the unzipped\n",
    "# assignment folder, e.g. 'cs231n/assignments/assignment1/'\n",
    "FOLDERNAME = None\n",
    "assert FOLDERNAME is not None, \"[!] Enter the foldername.\"\n",
    "\n",
    "# Now that we've mounted your Drive, this ensures that\n",
    "# the Python interpreter of the Colab VM can load\n",
    "# python files from within it.\n",
    "import sys\n",
    "sys.path.append('/content/drive/My Drive/{}'.format(FOLDERNAME))\n",
    "\n",
    "# This downloads the CIFAR-10 dataset to your Drive\n",
    "# if it doesn't already exist.\n",
    "%cd /content/drive/My\\ Drive/$FOLDERNAME/cs231n/datasets/\n",
    "!bash get_datasets.sh\n",
    "%cd /content/drive/My\\ Drive/$FOLDERNAME"
   ]
  },
  {
   "cell_type": "markdown",
   "id": "5fdfc27e",
   "metadata": {
    "tags": [
     "pdf-title"
    ]
   },
   "source": [
    "# Softmax exercise\n",
    "\n",
    "*Complete and hand in this completed worksheet (including its outputs and any supporting code outside of the worksheet) with your assignment submission. For more details see the [assignments page](http://vision.stanford.edu/teaching/cs231n/assignments.html) on the course website.*\n",
    "\n",
    "This exercise is analogous to the SVM exercise. You will:\n",
    "\n",
    "- implement a fully-vectorized **loss function** for the Softmax classifier\n",
    "- implement the fully-vectorized expression for its **analytic gradient**\n",
    "- **check your implementation** with numerical gradient\n",
    "- use a validation set to **tune the learning rate and regularization** strength\n",
    "- **optimize** the loss function with **SGD**\n",
    "- **visualize** the final learned weights\n"
   ]
  },
  {
   "cell_type": "code",
   "execution_count": 4,
   "id": "ca6cf2d4",
   "metadata": {
    "tags": [
     "pdf-ignore"
    ]
   },
   "outputs": [
    {
     "name": "stdout",
     "output_type": "stream",
     "text": [
      "The autoreload extension is already loaded. To reload it, use:\n",
      "  %reload_ext autoreload\n"
     ]
    }
   ],
   "source": [
    "import random\n",
    "import numpy as np\n",
    "from cs231n.data_utils import load_CIFAR10\n",
    "import matplotlib.pyplot as plt\n",
    "\n",
    "%matplotlib inline\n",
    "plt.rcParams['figure.figsize'] = (10.0, 8.0) # set default size of plots\n",
    "plt.rcParams['image.interpolation'] = 'nearest'\n",
    "plt.rcParams['image.cmap'] = 'gray'\n",
    "\n",
    "# for auto-reloading extenrnal modules\n",
    "# see http://stackoverflow.com/questions/1907993/autoreload-of-modules-in-ipython\n",
    "%load_ext autoreload\n",
    "%autoreload 2"
   ]
  },
  {
   "cell_type": "code",
   "execution_count": 5,
   "id": "9e9bbbbe",
   "metadata": {
    "tags": [
     "pdf-ignore"
    ]
   },
   "outputs": [
    {
     "name": "stdout",
     "output_type": "stream",
     "text": [
      "Train data shape:  (49000, 3073)\n",
      "Train labels shape:  (49000,)\n",
      "Validation data shape:  (1000, 3073)\n",
      "Validation labels shape:  (1000,)\n",
      "Test data shape:  (1000, 3073)\n",
      "Test labels shape:  (1000,)\n",
      "dev data shape:  (500, 3073)\n",
      "dev labels shape:  (500,)\n"
     ]
    }
   ],
   "source": [
    "def get_CIFAR10_data(num_training=49000, num_validation=1000, num_test=1000, num_dev=500):\n",
    "    \"\"\"\n",
    "    Load the CIFAR-10 dataset from disk and perform preprocessing to prepare\n",
    "    it for the linear classifier. These are the same steps as we used for the\n",
    "    SVM, but condensed to a single function.  \n",
    "    \"\"\"\n",
    "    # Load the raw CIFAR-10 data\n",
    "    cifar10_dir = 'cs231n/datasets/cifar-10-batches-py'\n",
    "    \n",
    "    # Cleaning up variables to prevent loading data multiple times (which may cause memory issue)\n",
    "    try:\n",
    "       del X_train, y_train\n",
    "       del X_test, y_test\n",
    "       print('Clear previously loaded data.')\n",
    "    except:\n",
    "       pass\n",
    "\n",
    "    X_train, y_train, X_test, y_test = load_CIFAR10(cifar10_dir)\n",
    "    \n",
    "    # subsample the data\n",
    "    mask = list(range(num_training, num_training + num_validation))\n",
    "    X_val = X_train[mask]\n",
    "    y_val = y_train[mask]\n",
    "    mask = list(range(num_training))\n",
    "    X_train = X_train[mask]\n",
    "    y_train = y_train[mask]\n",
    "    mask = list(range(num_test))\n",
    "    X_test = X_test[mask]\n",
    "    y_test = y_test[mask]\n",
    "    mask = np.random.choice(num_training, num_dev, replace=False)\n",
    "    X_dev = X_train[mask]\n",
    "    y_dev = y_train[mask]\n",
    "    \n",
    "    # Preprocessing: reshape the image data into rows\n",
    "    X_train = np.reshape(X_train, (X_train.shape[0], -1))\n",
    "    X_val = np.reshape(X_val, (X_val.shape[0], -1))\n",
    "    X_test = np.reshape(X_test, (X_test.shape[0], -1))\n",
    "    X_dev = np.reshape(X_dev, (X_dev.shape[0], -1))\n",
    "    \n",
    "    # Normalize the data: subtract the mean image\n",
    "    mean_image = np.mean(X_train, axis = 0)\n",
    "    X_train -= mean_image\n",
    "    X_val -= mean_image\n",
    "    X_test -= mean_image\n",
    "    X_dev -= mean_image\n",
    "    \n",
    "    # add bias dimension and transform into columns\n",
    "    X_train = np.hstack([X_train, np.ones((X_train.shape[0], 1))])\n",
    "    X_val = np.hstack([X_val, np.ones((X_val.shape[0], 1))])\n",
    "    X_test = np.hstack([X_test, np.ones((X_test.shape[0], 1))])\n",
    "    X_dev = np.hstack([X_dev, np.ones((X_dev.shape[0], 1))])\n",
    "    \n",
    "    return X_train, y_train, X_val, y_val, X_test, y_test, X_dev, y_dev\n",
    "\n",
    "\n",
    "# Invoke the above function to get our data.\n",
    "X_train, y_train, X_val, y_val, X_test, y_test, X_dev, y_dev = get_CIFAR10_data()\n",
    "print('Train data shape: ', X_train.shape)\n",
    "print('Train labels shape: ', y_train.shape)\n",
    "print('Validation data shape: ', X_val.shape)\n",
    "print('Validation labels shape: ', y_val.shape)\n",
    "print('Test data shape: ', X_test.shape)\n",
    "print('Test labels shape: ', y_test.shape)\n",
    "print('dev data shape: ', X_dev.shape)\n",
    "print('dev labels shape: ', y_dev.shape)"
   ]
  },
  {
   "cell_type": "markdown",
   "id": "d4c3fb04",
   "metadata": {},
   "source": [
    "## Softmax Classifier\n",
    "\n",
    "Your code for this section will all be written inside `cs231n/classifiers/softmax.py`.\n"
   ]
  },
  {
   "cell_type": "code",
   "execution_count": 6,
   "id": "25f2e5e1",
   "metadata": {},
   "outputs": [
    {
     "name": "stdout",
     "output_type": "stream",
     "text": [
      "loss: 2.316334\n",
      "sanity check: 2.302585\n"
     ]
    }
   ],
   "source": [
    "# First implement the naive softmax loss function with nested loops.\n",
    "# Open the file cs231n/classifiers/softmax.py and implement the\n",
    "# softmax_loss_naive function.\n",
    "\n",
    "from cs231n.classifiers.softmax import softmax_loss_naive\n",
    "import time\n",
    "\n",
    "# Generate a random softmax weight matrix and use it to compute the loss.\n",
    "W = np.random.randn(3073, 10) * 0.0001\n",
    "loss, grad = softmax_loss_naive(W, X_dev, y_dev, 0.0)\n",
    "\n",
    "# As a rough sanity check, our loss should be something close to -log(0.1).\n",
    "print('loss: %f' % loss)\n",
    "print('sanity check: %f' % (-np.log(0.1)))"
   ]
  },
  {
   "cell_type": "markdown",
   "id": "15ebc638",
   "metadata": {
    "tags": [
     "pdf-inline"
    ]
   },
   "source": [
    "**Inline Question 1**\n",
    "\n",
    "Why do we expect our loss to be close to -log(0.1)? Explain briefly.**\n",
    "\n",
    "$\\color{blue}{\\textit Your Answer:}$ *Fill this in* \n",
    "\n"
   ]
  },
  {
   "cell_type": "code",
   "execution_count": null,
   "id": "95280c89",
   "metadata": {},
   "outputs": [],
   "source": [
    "# 因为我们的权重矩阵乘以0.001之后导致里面的值都非常小，接近于0，所以我们得到的分值向量里的值也都接近于0。0经过指数化接近1，因为一共有10个类别，之后的归一化会导致正确类别的概率值接近于0.1（等概论1/10），所以根据损失函数的定义得到损失值将接近-log（0.1）"
   ]
  },
  {
   "cell_type": "code",
   "execution_count": 7,
   "id": "a8cb3eb1",
   "metadata": {},
   "outputs": [
    {
     "name": "stdout",
     "output_type": "stream",
     "text": [
      "numerical: -2.814390 analytic: -2.814390, relative error: 1.696286e-08\n",
      "numerical: 0.576131 analytic: 0.576131, relative error: 9.157572e-09\n",
      "numerical: 0.034264 analytic: 0.034264, relative error: 7.724236e-07\n",
      "numerical: -1.148356 analytic: -1.148356, relative error: 2.262229e-08\n",
      "numerical: 0.577577 analytic: 0.577577, relative error: 3.281225e-08\n",
      "numerical: -3.021821 analytic: -3.021821, relative error: 4.852285e-09\n",
      "numerical: 1.844924 analytic: 1.844924, relative error: 3.016029e-08\n",
      "numerical: 0.933658 analytic: 0.933658, relative error: 1.780029e-09\n",
      "numerical: -4.788551 analytic: -4.788552, relative error: 8.966809e-09\n",
      "numerical: -1.890758 analytic: -1.890758, relative error: 3.410880e-09\n",
      "numerical: 1.384232 analytic: 1.384232, relative error: 6.459047e-09\n",
      "numerical: 0.368538 analytic: 0.368538, relative error: 1.625975e-09\n",
      "numerical: -0.224999 analytic: -0.224999, relative error: 7.000076e-09\n",
      "numerical: 1.222099 analytic: 1.222099, relative error: 4.354567e-09\n",
      "numerical: -3.216199 analytic: -3.216199, relative error: 5.836600e-09\n",
      "numerical: 1.484109 analytic: 1.484109, relative error: 2.745685e-08\n",
      "numerical: -0.558662 analytic: -0.558662, relative error: 1.616718e-08\n",
      "numerical: 1.387906 analytic: 1.387906, relative error: 2.886278e-08\n",
      "numerical: 2.504598 analytic: 2.504598, relative error: 1.769099e-08\n",
      "numerical: -0.816196 analytic: -0.816196, relative error: 1.891263e-08\n"
     ]
    }
   ],
   "source": [
    "# Complete the implementation of softmax_loss_naive and implement a (naive)\n",
    "# version of the gradient that uses nested loops.\n",
    "loss, grad = softmax_loss_naive(W, X_dev, y_dev, 0.0)\n",
    "\n",
    "# 使用数值梯度检验的方法作为调试工具\n",
    "\n",
    "# 数值梯度(求导）应接近解析梯度（链式求导）\n",
    "# grad_check_sparse这个函数随机抽取10个位置，然后打印出该位置的数值梯度和分析梯度，以及它们之间的相对差值\n",
    "from cs231n.gradient_check import grad_check_sparse\n",
    "f = lambda w: softmax_loss_naive(w, X_dev, y_dev, 0.0)[0]\n",
    "grad_numerical = grad_check_sparse(f, W, grad, 10)\n",
    "\n",
    "# similar to SVM case, do another gradient check with regularization\n",
    "loss, grad = softmax_loss_naive(W, X_dev, y_dev, 5e1)\n",
    "f = lambda w: softmax_loss_naive(w, X_dev, y_dev, 5e1)[0]\n",
    "grad_numerical = grad_check_sparse(f, W, grad, 10)"
   ]
  },
  {
   "cell_type": "code",
   "execution_count": 8,
   "id": "4a4a81d4",
   "metadata": {},
   "outputs": [
    {
     "name": "stdout",
     "output_type": "stream",
     "text": [
      "naive loss: 2.316334e+00 computed in 0.052088s\n",
      "vectorized loss: 2.316334e+00 computed in 0.079144s\n",
      "Loss difference: 0.000000\n",
      "Gradient difference: 0.000000\n"
     ]
    }
   ],
   "source": [
    "# 我们已经有了一个朴素版的softmax损失函数及其梯度的实现，现在在softmax_loss_vectorized函数中再实现一个向量版的函数。这两个函数的结果应该是一样的，只是向量版的速度运算速度会快很多。\n",
    "tic = time.time()\n",
    "loss_naive, grad_naive = softmax_loss_naive(W, X_dev, y_dev, 0.000005)\n",
    "toc = time.time()\n",
    "print('naive loss: %e computed in %fs' % (loss_naive, toc - tic))\n",
    "\n",
    "from cs231n.classifiers.softmax import softmax_loss_vectorized\n",
    "tic = time.time()\n",
    "loss_vectorized, grad_vectorized = softmax_loss_vectorized(W, X_dev, y_dev, 0.000005)\n",
    "toc = time.time()\n",
    "print('vectorized loss: %e computed in %fs' % (loss_vectorized, toc - tic))\n",
    "\n",
    "# As we did for the SVM, we use the Frobenius norm to compare the two versions\n",
    "# of the gradient.\n",
    "grad_difference = np.linalg.norm(grad_naive - grad_vectorized, ord='fro')\n",
    "print('Loss difference: %f' % np.abs(loss_naive - loss_vectorized))\n",
    "print('Gradient difference: %f' % grad_difference)"
   ]
  },
  {
   "cell_type": "code",
   "execution_count": 13,
   "id": "a3453536",
   "metadata": {
    "tags": [
     "code"
    ],
    "test": "tuning"
   },
   "outputs": [
    {
     "name": "stdout",
     "output_type": "stream",
     "text": [
      "lr 1.000000e-10 reg 1.000000e-03 train accuracy: 0.140265 val accuracy: 0.146000\n",
      "lr 1.000000e-10 reg 1.000000e-02 train accuracy: 0.111163 val accuracy: 0.121000\n",
      "lr 1.000000e-10 reg 1.000000e-01 train accuracy: 0.083939 val accuracy: 0.075000\n",
      "lr 1.000000e-10 reg 1.000000e+00 train accuracy: 0.110469 val accuracy: 0.120000\n",
      "lr 1.000000e-10 reg 1.000000e+01 train accuracy: 0.105163 val accuracy: 0.113000\n",
      "lr 1.000000e-10 reg 1.000000e+02 train accuracy: 0.090204 val accuracy: 0.083000\n",
      "lr 1.000000e-10 reg 1.000000e+03 train accuracy: 0.105367 val accuracy: 0.116000\n",
      "lr 1.000000e-10 reg 1.000000e+04 train accuracy: 0.118408 val accuracy: 0.108000\n",
      "lr 1.000000e-10 reg 1.000000e+05 train accuracy: 0.100408 val accuracy: 0.105000\n",
      "lr 1.000000e-10 reg 1.000000e+06 train accuracy: 0.088245 val accuracy: 0.076000\n",
      "lr 1.668101e-08 reg 1.000000e-03 train accuracy: 0.128653 val accuracy: 0.125000\n",
      "lr 1.668101e-08 reg 1.000000e-02 train accuracy: 0.123449 val accuracy: 0.117000\n",
      "lr 1.668101e-08 reg 1.000000e-01 train accuracy: 0.091102 val accuracy: 0.093000\n",
      "lr 1.668101e-08 reg 1.000000e+00 train accuracy: 0.104245 val accuracy: 0.108000\n",
      "lr 1.668101e-08 reg 1.000000e+01 train accuracy: 0.109551 val accuracy: 0.108000\n",
      "lr 1.668101e-08 reg 1.000000e+02 train accuracy: 0.112388 val accuracy: 0.125000\n",
      "lr 1.668101e-08 reg 1.000000e+03 train accuracy: 0.093327 val accuracy: 0.097000\n",
      "lr 1.668101e-08 reg 1.000000e+04 train accuracy: 0.114776 val accuracy: 0.129000\n",
      "lr 1.668101e-08 reg 1.000000e+05 train accuracy: 0.110571 val accuracy: 0.123000\n",
      "lr 1.668101e-08 reg 1.000000e+06 train accuracy: 0.104673 val accuracy: 0.112000\n",
      "lr 2.782559e-06 reg 1.000000e-03 train accuracy: 0.271612 val accuracy: 0.272000\n",
      "lr 2.782559e-06 reg 1.000000e-02 train accuracy: 0.266224 val accuracy: 0.263000\n",
      "lr 2.782559e-06 reg 1.000000e-01 train accuracy: 0.272429 val accuracy: 0.288000\n",
      "lr 2.782559e-06 reg 1.000000e+00 train accuracy: 0.275551 val accuracy: 0.266000\n",
      "lr 2.782559e-06 reg 1.000000e+01 train accuracy: 0.275408 val accuracy: 0.280000\n",
      "lr 2.782559e-06 reg 1.000000e+02 train accuracy: 0.265388 val accuracy: 0.268000\n",
      "lr 2.782559e-06 reg 1.000000e+03 train accuracy: 0.283510 val accuracy: 0.273000\n",
      "lr 2.782559e-06 reg 1.000000e+04 train accuracy: 0.339408 val accuracy: 0.351000\n",
      "lr 2.782559e-06 reg 1.000000e+05 train accuracy: 0.275224 val accuracy: 0.292000\n",
      "lr 2.782559e-06 reg 1.000000e+06 train accuracy: 0.085347 val accuracy: 0.088000\n",
      "lr 4.641589e-04 reg 1.000000e-03 train accuracy: 0.268143 val accuracy: 0.267000\n",
      "lr 4.641589e-04 reg 1.000000e-02 train accuracy: 0.248776 val accuracy: 0.237000\n",
      "lr 4.641589e-04 reg 1.000000e-01 train accuracy: 0.267551 val accuracy: 0.291000\n",
      "lr 4.641589e-04 reg 1.000000e+00 train accuracy: 0.249673 val accuracy: 0.265000\n",
      "lr 4.641589e-04 reg 1.000000e+01 train accuracy: 0.248204 val accuracy: 0.252000\n",
      "lr 4.641589e-04 reg 1.000000e+02 train accuracy: 0.217735 val accuracy: 0.228000\n",
      "lr 4.641589e-04 reg 1.000000e+03 train accuracy: 0.089041 val accuracy: 0.071000\n",
      "lr 4.641589e-04 reg 1.000000e+04 train accuracy: 0.054796 val accuracy: 0.045000\n",
      "lr 4.641589e-04 reg 1.000000e+05 train accuracy: 0.100939 val accuracy: 0.095000\n",
      "lr 4.641589e-04 reg 1.000000e+06 train accuracy: 0.078184 val accuracy: 0.079000\n",
      "lr 7.742637e-02 reg 1.000000e-03 train accuracy: 0.244755 val accuracy: 0.261000\n",
      "lr 7.742637e-02 reg 1.000000e-02 train accuracy: 0.257000 val accuracy: 0.228000\n",
      "lr 7.742637e-02 reg 1.000000e-01 train accuracy: 0.287469 val accuracy: 0.319000\n",
      "lr 7.742637e-02 reg 1.000000e+00 train accuracy: 0.215571 val accuracy: 0.222000\n",
      "lr 7.742637e-02 reg 1.000000e+01 train accuracy: 0.110898 val accuracy: 0.107000\n",
      "lr 7.742637e-02 reg 1.000000e+02 train accuracy: 0.047327 val accuracy: 0.047000\n",
      "lr 7.742637e-02 reg 1.000000e+03 train accuracy: 0.068224 val accuracy: 0.061000\n",
      "lr 7.742637e-02 reg 1.000000e+04 train accuracy: 0.092796 val accuracy: 0.083000\n",
      "lr 7.742637e-02 reg 1.000000e+05 train accuracy: 0.100265 val accuracy: 0.087000\n",
      "lr 7.742637e-02 reg 1.000000e+06 train accuracy: 0.100265 val accuracy: 0.087000\n",
      "lr 1.291550e+01 reg 1.000000e-03 train accuracy: 0.227122 val accuracy: 0.223000\n",
      "lr 1.291550e+01 reg 1.000000e-02 train accuracy: 0.155592 val accuracy: 0.166000\n",
      "lr 1.291550e+01 reg 1.000000e-01 train accuracy: 0.093857 val accuracy: 0.102000\n",
      "lr 1.291550e+01 reg 1.000000e+00 train accuracy: 0.055837 val accuracy: 0.059000\n",
      "lr 1.291550e+01 reg 1.000000e+01 train accuracy: 0.055449 val accuracy: 0.050000\n",
      "lr 1.291550e+01 reg 1.000000e+02 train accuracy: 0.100265 val accuracy: 0.087000\n",
      "lr 1.291550e+01 reg 1.000000e+03 train accuracy: 0.100265 val accuracy: 0.087000\n",
      "lr 1.291550e+01 reg 1.000000e+04 train accuracy: 0.100265 val accuracy: 0.087000\n",
      "lr 1.291550e+01 reg 1.000000e+05 train accuracy: 0.100265 val accuracy: 0.087000\n",
      "lr 1.291550e+01 reg 1.000000e+06 train accuracy: 0.100265 val accuracy: 0.087000\n",
      "lr 2.154435e+03 reg 1.000000e-03 train accuracy: 0.068286 val accuracy: 0.052000\n",
      "lr 2.154435e+03 reg 1.000000e-02 train accuracy: 0.061306 val accuracy: 0.049000\n",
      "lr 2.154435e+03 reg 1.000000e-01 train accuracy: 0.074551 val accuracy: 0.081000\n",
      "lr 2.154435e+03 reg 1.000000e+00 train accuracy: 0.100265 val accuracy: 0.087000\n",
      "lr 2.154435e+03 reg 1.000000e+01 train accuracy: 0.100265 val accuracy: 0.087000\n",
      "lr 2.154435e+03 reg 1.000000e+02 train accuracy: 0.100265 val accuracy: 0.087000\n",
      "lr 2.154435e+03 reg 1.000000e+03 train accuracy: 0.100265 val accuracy: 0.087000\n",
      "lr 2.154435e+03 reg 1.000000e+04 train accuracy: 0.100265 val accuracy: 0.087000\n",
      "lr 2.154435e+03 reg 1.000000e+05 train accuracy: 0.100265 val accuracy: 0.087000\n",
      "lr 2.154435e+03 reg 1.000000e+06 train accuracy: 0.100265 val accuracy: 0.087000\n",
      "lr 3.593814e+05 reg 1.000000e-03 train accuracy: 0.091286 val accuracy: 0.096000\n",
      "lr 3.593814e+05 reg 1.000000e-02 train accuracy: 0.100265 val accuracy: 0.087000\n",
      "lr 3.593814e+05 reg 1.000000e-01 train accuracy: 0.100265 val accuracy: 0.087000\n",
      "lr 3.593814e+05 reg 1.000000e+00 train accuracy: 0.100265 val accuracy: 0.087000\n",
      "lr 3.593814e+05 reg 1.000000e+01 train accuracy: 0.100265 val accuracy: 0.087000\n",
      "lr 3.593814e+05 reg 1.000000e+02 train accuracy: 0.100265 val accuracy: 0.087000\n",
      "lr 3.593814e+05 reg 1.000000e+03 train accuracy: 0.100265 val accuracy: 0.087000\n",
      "lr 3.593814e+05 reg 1.000000e+04 train accuracy: 0.100265 val accuracy: 0.087000\n",
      "lr 3.593814e+05 reg 1.000000e+05 train accuracy: 0.100265 val accuracy: 0.087000\n",
      "lr 3.593814e+05 reg 1.000000e+06 train accuracy: 0.100265 val accuracy: 0.087000\n",
      "lr 5.994843e+07 reg 1.000000e-03 train accuracy: 0.100265 val accuracy: 0.087000\n",
      "lr 5.994843e+07 reg 1.000000e-02 train accuracy: 0.100265 val accuracy: 0.087000\n",
      "lr 5.994843e+07 reg 1.000000e-01 train accuracy: 0.100265 val accuracy: 0.087000\n",
      "lr 5.994843e+07 reg 1.000000e+00 train accuracy: 0.100265 val accuracy: 0.087000\n",
      "lr 5.994843e+07 reg 1.000000e+01 train accuracy: 0.100265 val accuracy: 0.087000\n",
      "lr 5.994843e+07 reg 1.000000e+02 train accuracy: 0.100265 val accuracy: 0.087000\n",
      "lr 5.994843e+07 reg 1.000000e+03 train accuracy: 0.100265 val accuracy: 0.087000\n",
      "lr 5.994843e+07 reg 1.000000e+04 train accuracy: 0.100265 val accuracy: 0.087000\n",
      "lr 5.994843e+07 reg 1.000000e+05 train accuracy: 0.100265 val accuracy: 0.087000\n",
      "lr 5.994843e+07 reg 1.000000e+06 train accuracy: 0.100265 val accuracy: 0.087000\n",
      "lr 1.000000e+10 reg 1.000000e-03 train accuracy: 0.100265 val accuracy: 0.087000\n",
      "lr 1.000000e+10 reg 1.000000e-02 train accuracy: 0.100265 val accuracy: 0.087000\n",
      "lr 1.000000e+10 reg 1.000000e-01 train accuracy: 0.100265 val accuracy: 0.087000\n",
      "lr 1.000000e+10 reg 1.000000e+00 train accuracy: 0.100265 val accuracy: 0.087000\n",
      "lr 1.000000e+10 reg 1.000000e+01 train accuracy: 0.100265 val accuracy: 0.087000\n",
      "lr 1.000000e+10 reg 1.000000e+02 train accuracy: 0.100265 val accuracy: 0.087000\n",
      "lr 1.000000e+10 reg 1.000000e+03 train accuracy: 0.100265 val accuracy: 0.087000\n",
      "lr 1.000000e+10 reg 1.000000e+04 train accuracy: 0.100265 val accuracy: 0.087000\n",
      "lr 1.000000e+10 reg 1.000000e+05 train accuracy: 0.100265 val accuracy: 0.087000\n",
      "lr 1.000000e+10 reg 1.000000e+06 train accuracy: 0.100265 val accuracy: 0.087000\n",
      "best validation accuracy achieved during cross-validation: 0.351000\n"
     ]
    }
   ],
   "source": [
    "# 超参数调优：利用验证集来微调超参数（正则化强度和学习率），你应该分别使用不同的数值范围对学习率和正则化强度进行微调。如果足够细心，你应该能在验证集上实现高于0.35的分类准确率\n",
    "\n",
    "from cs231n.classifiers import Softmax\n",
    "results = {}\n",
    "best_val = -1\n",
    "best_softmax = None\n",
    "\n",
    "################################################################################\n",
    "# TODO:                                                                        #\n",
    "# 使用更细致的学习率和正则化强度       \n",
    "#用验证集来调整学习率和正则化强度；这跟你在SVM里做的类似；把最好的Softmax分类器保存在best_softmax里\n",
    "################################################################################\n",
    "\n",
    "# Provided as a reference. You may or may not want to change these hyperparameters\n",
    "learning_rates = [1e-7, 5e-7]\n",
    "regularization_strengths = [2.5e4, 5e4]\n",
    "#上面这两个范围是题目给的，下面是答案做的\n",
    "learning_rates = np.logspace(-10,10,10)\n",
    "regularization_strengths = np.logspace(-3,6,10)\n",
    "#np.logspace(start, stop, num=50, endpoint=True, base=10.0, dtype=None)\n",
    "# 其中，start和stop表示指定范围的起始值和终止值，num表示生成数列的个数（默认为50个），endpoint表示是否包括终止值（默认为True），base表示底数（默认为10），dtype表示返回数列的数据类型（默认为float）。\n",
    "#[1e-11,...1e11]一共十个数的等比数列  [1e-4...1e7]一共十个数的等比数列\n",
    "iters = 100\n",
    "for lr in learning_rates:\n",
    "    for rs in regularization_strengths:\n",
    "        softmax = Softmax()\n",
    "        softmax.train(X_train,y_train,learning_rate = lr,reg = rs,num_iters = iters)\n",
    "        \n",
    "        y_train_pred = softmax.predict(X_train)\n",
    "        acc_train = np.mean(y_train == y_train_pred)\n",
    "        y_val_pred = softmax.predict(X_val)\n",
    "        acc_val = np.mean(y_val == y_val_pred)\n",
    "\n",
    "        results[(lr,rs)] = (acc_train,acc_val)\n",
    "        \n",
    "        if best_val<acc_val:\n",
    "            best_val = acc_val\n",
    "            best_softmax = softmax\n",
    "        \n",
    "# Print out results.\n",
    "for lr, reg in sorted(results):\n",
    "    train_accuracy, val_accuracy = results[(lr, reg)]\n",
    "    print('lr %e reg %e train accuracy: %f val accuracy: %f' % (\n",
    "                lr, reg, train_accuracy, val_accuracy))\n",
    "    \n",
    "print('best validation accuracy achieved during cross-validation: %f' % best_val)"
   ]
  },
  {
   "cell_type": "code",
   "execution_count": 14,
   "id": "8a1f9db3",
   "metadata": {
    "test": "test"
   },
   "outputs": [
    {
     "name": "stdout",
     "output_type": "stream",
     "text": [
      "softmax on raw pixels final test set accuracy: 0.346000\n"
     ]
    }
   ],
   "source": [
    "# evaluate on test set\n",
    "# Evaluate the best softmax on test set\n",
    "y_test_pred = best_softmax.predict(X_test)\n",
    "test_accuracy = np.mean(y_test == y_test_pred)\n",
    "print('softmax on raw pixels final test set accuracy: %f' % (test_accuracy, ))"
   ]
  },
  {
   "cell_type": "markdown",
   "id": "86b9b65c",
   "metadata": {
    "tags": [
     "pdf-inline"
    ]
   },
   "source": [
    "**Inline Question 2** - *True or False*\n",
    "\n",
    "Suppose the overall training loss is defined as the sum of the per-datapoint loss over all training examples. It is possible to add a new datapoint to a training set that would leave the SVM loss unchanged, but this is not the case with the Softmax classifier loss.\n",
    "\n",
    "$\\color{blue}{\\textit Your Answer:}$\n",
    "\n",
    "\n",
    "$\\color{blue}{\\textit Your Explanation:}$\n",
    "\n"
   ]
  },
  {
   "cell_type": "code",
   "execution_count": 15,
   "id": "009f08b9",
   "metadata": {},
   "outputs": [
    {
     "data": {
      "image/png": "[encoded data removed]",
      "text/plain": [
       "<Figure size 1000x800 with 10 Axes>"
      ]
     },
     "metadata": {},
     "output_type": "display_data"
    }
   ],
   "source": [
    "# Visualize the learned weights for each class\n",
    "w = best_softmax.W[:-1,:] # strip out the bias\n",
    "w = w.reshape(32, 32, 3, 10)\n",
    "\n",
    "w_min, w_max = np.min(w), np.max(w)\n",
    "\n",
    "classes = ['plane', 'car', 'bird', 'cat', 'deer', 'dog', 'frog', 'horse', 'ship', 'truck']\n",
    "for i in range(10):\n",
    "    plt.subplot(2, 5, i + 1)\n",
    "    \n",
    "    # Rescale the weights to be between 0 and 255\n",
    "    wimg = 255.0 * (w[:, :, :, i].squeeze() - w_min) / (w_max - w_min)\n",
    "#     .squeeze()是一个numpy函数，用于从数组的形状中删除单维度条目，即将长度为1的维度删除。如果数组的某个维度长度为1，则该维度可以被视为没有意义，因为它只包含一个元素。使用.squeeze()函数可以将这样的维度删除，从而使数组更易于处理。\n",
    "# 例如，如果一个数组的形状为(1, 2, 1, 3, 1)，则使用.squeeze()函数后，形状将变为(2, 3)，其中原来的单维度条目被删除。如果数组中没有单维度条目，则.squeeze()函数不会改变数组的形状。plt.imshow(wimg.astype('uint8'))\n",
    "# 这段代码用于将一个卷积神经网络中的卷积核可视化成一张图片。具体来说，它将第i个卷积核从4维张量w中提取出来，然后将其值缩放到0到255之间，最后将其保存在一个大小为32x32的二维数组wimg中。\n",
    "# .squeeze()函数的作用是将w[:, :, :, i]的形状从(32, 32, 3, 1)变成(32, 32, 3)，即删除长度为1的维度。这是因为在卷积神经网络中，卷积核的深度（即通道数）通常为1，因此可以将这一维度删除，使得得到的二维数组可以被视为一张RGB图像。\n",
    "# 其中，w_min和w_max分别是所有卷积核的最小值和最大值，用于将卷积核的值缩放到0到255之间。这样做是为了使得卷积核中的模式更加明显，便于观察。\n",
    "    plt.axis('off')\n",
    "    plt.title(classes[i])"
   ]
  },
  {
   "cell_type": "code",
   "execution_count": null,
   "id": "161d4e25",
   "metadata": {},
   "outputs": [],
   "source": []
  }
 ],
 "metadata": {
  "kernelspec": {
   "display_name": "Python 3 (ipykernel)",
   "language": "python",
   "name": "python3"
  },
  "language_info": {
   "codemirror_mode": {
    "name": "ipython",
    "version": 3
   },
   "file_extension": ".py",
   "mimetype": "text/x-python",
   "name": "python",
   "nbconvert_exporter": "python",
   "pygments_lexer": "ipython3",
   "version": "3.10.9"
  }
 },
 "nbformat": 4,
 "nbformat_minor": 5
}
